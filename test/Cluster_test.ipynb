{
 "cells": [
  {
   "cell_type": "code",
   "execution_count": 1,
   "metadata": {},
   "outputs": [],
   "source": [
    "using Revise"
   ]
  },
  {
   "cell_type": "code",
   "execution_count": 2,
   "metadata": {},
   "outputs": [],
   "source": [
    "using Graphs, OffsetArrays\n"
   ]
  },
  {
   "cell_type": "code",
   "execution_count": 3,
   "metadata": {},
   "outputs": [
    {
     "name": "stderr",
     "output_type": "stream",
     "text": [
      "\u001b[36m\u001b[1m[ \u001b[22m\u001b[39m\u001b[36m\u001b[1mInfo: \u001b[22m\u001b[39mPrecompiling LammpsAnalysis [f54fdea9-a25b-4801-be39-89e20f64ecdd]\n"
     ]
    }
   ],
   "source": [
    "using LammpsAnalysis"
   ]
  },
  {
   "cell_type": "code",
   "execution_count": 4,
   "metadata": {},
   "outputs": [
    {
     "name": "stdout",
     "output_type": "stream",
     "text": [
      "\u001b[33mCannot find field: Dict{String, Any}() with key LammpsVariables.\u001b[39m\n",
      "\u001b[33mCannot find field: 1//1 with key Reduce.\u001b[39m\n",
      "\u001b[33mCannot find field: Dict{String, Int32}(\"pe\" => 6, \"etotal\" => 5, \"ecoul\" => 9, \"edihed\" => 13, \"time\" => 2, \"evdwl\" => 8, \"ke\" => 7, \"step\" => 1, \"press\" => 4, \"eangle\" => 12, \"epair\" => 10, \"ebond\" => 11, \"temp\" => 3) with key EnergyDict.\u001b[39m\n",
      "\u001b[33mCannot find field: Float32[] with key SlabHistogramSeries.\u001b[39m\n",
      "\u001b[33mCannot find field: Matrix{Float32}(undef, 0, 0) with key Energies.\u001b[39m\n",
      "\u001b[33mCannot find field: 100000 with key EnergyWriteOutFreq.\u001b[39m\n",
      "\u001b[33mCannot find field: 0 with key NReplica.\u001b[39m\n",
      "\u001b[33mCannot find field: 100000 with key TrajWriteOutFreq.\u001b[39m\n"
     ]
    },
    {
     "data": {
      "text/plain": [
       "LammpsAnalysis.SimData{Float32, Int32}(\"RS41_RRM_slab\", 1, 4402, 33400, 33200, 33000, 32800, 200, 22, 1, 1, 146, 280.0f0, 2, Float32[-135.0 135.0; -750.0 750.0; -135.0 135.0], Float32[270.0, 1500.0, 270.0], [\"M',KPVFCGNFEYDARESDLERLFRKYGKVERVDMKAGFAFVYMEDERDAEDAIRALDRFEYGRTGRRLRVEWTKNDRGGAGRSGGSRRSSSGLRPSKTLFVINFDAQNTRTRDLERHFEPYGKIVNVRIRRNFAFIQYEAQEDATRALDATNSSKLMDKVISVEYAVK',\", \"MKPVFCGNFEYDARESDLERLFRKYGKVERVDMKAGFAFVYMEDERDAEDAIRALDRFEYGRTGRRLRVEWTKNDRGGAGRSGGSRRSSSGLRPSKTLFVINFDAQNTRTRDLERHFEPYGKIVNVRIRRNFAFIQYEAQEDATRALDATNSSKLMDKVISVEYAVK\", \"MKPVFCGNFEYDARESDLERLFRKYGKVERVDMKAGFAFVYMEDERDAEDAIRALDRFEYGRTGRRLRVEWTKNDRGGAGRSGGSRRSSSGLRPSKTLFVINFDAQNTRTRDLERHFEPYGKIVNVRIRRNFAFIQYEAQEDATRALDATNSSKLMDKVISVEYAVK\", \"MKPVFCGNFEYDARESDLERLFRKYGKVERVDMKAGFAFVYMEDERDAEDAIRALDRFEYGRTGRRLRVEWTKNDRGGAGRSGGSRRSSSGLRPSKTLFVINFDAQNTRTRDLERHFEPYGKIVNVRIRRNFAFIQYEAQEDATRALDATNSSKLMDKVISVEYAVK\", \"MKPVFCGNFEYDARESDLERLFRKYGKVERVDMKAGFAFVYMEDERDAEDAIRALDRFEYGRTGRRLRVEWTKNDRGGAGRSGGSRRSSSGLRPSKTLFVINFDAQNTRTRDLERHFEPYGKIVNVRIRRNFAFIQYEAQEDATRALDATNSSKLMDKVISVEYAVK\", \"MKPVFCGNFEYDARESDLERLFRKYGKVERVDMKAGFAFVYMEDERDAEDAIRALDRFEYGRTGRRLRVEWTKNDRGGAGRSGGSRRSSSGLRPSKTLFVINFDAQNTRTRDLERHFEPYGKIVNVRIRRNFAFIQYEAQEDATRALDATNSSKLMDKVISVEYAVK\", \"MKPVFCGNFEYDARESDLERLFRKYGKVERVDMKAGFAFVYMEDERDAEDAIRALDRFEYGRTGRRLRVEWTKNDRGGAGRSGGSRRSSSGLRPSKTLFVINFDAQNTRTRDLERHFEPYGKIVNVRIRRNFAFIQYEAQEDATRALDATNSSKLMDKVISVEYAVK\", \"MKPVFCGNFEYDARESDLERLFRKYGKVERVDMKAGFAFVYMEDERDAEDAIRALDRFEYGRTGRRLRVEWTKNDRGGAGRSGGSRRSSSGLRPSKTLFVINFDAQNTRTRDLERHFEPYGKIVNVRIRRNFAFIQYEAQEDATRALDATNSSKLMDKVISVEYAVK\", \"MKPVFCGNFEYDARESDLERLFRKYGKVERVDMKAGFAFVYMEDERDAEDAIRALDRFEYGRTGRRLRVEWTKNDRGGAGRSGGSRRSSSGLRPSKTLFVINFDAQNTRTRDLERHFEPYGKIVNVRIRRNFAFIQYEAQEDATRALDATNSSKLMDKVISVEYAVK\", \"MKPVFCGNFEYDARESDLERLFRKYGKVERVDMKAGFAFVYMEDERDAEDAIRALDRFEYGRTGRRLRVEWTKNDRGGAGRSGGSRRSSSGLRPSKTLFVINFDAQNTRTRDLERHFEPYGKIVNVRIRRNFAFIQYEAQEDATRALDATNSSKLMDKVISVEYAVK\"  …  \"MKPVFCGNFEYDARESDLERLFRKYGKVERVDMKAGFAFVYMEDERDAEDAIRALDRFEYGRTGRRLRVEWTKNDRGGAGRSGGSRRSSSGLRPSKTLFVINFDAQNTRTRDLERHFEPYGKIVNVRIRRNFAFIQYEAQEDATRALDATNSSKLMDKVISVEYAVK\", \"MKPVFCGNFEYDARESDLERLFRKYGKVERVDMKAGFAFVYMEDERDAEDAIRALDRFEYGRTGRRLRVEWTKNDRGGAGRSGGSRRSSSGLRPSKTLFVINFDAQNTRTRDLERHFEPYGKIVNVRIRRNFAFIQYEAQEDATRALDATNSSKLMDKVISVEYAVK\", \"MKPVFCGNFEYDARESDLERLFRKYGKVERVDMKAGFAFVYMEDERDAEDAIRALDRFEYGRTGRRLRVEWTKNDRGGAGRSGGSRRSSSGLRPSKTLFVINFDAQNTRTRDLERHFEPYGKIVNVRIRRNFAFIQYEAQEDATRALDATNSSKLMDKVISVEYAVK\", \"MKPVFCGNFEYDARESDLERLFRKYGKVERVDMKAGFAFVYMEDERDAEDAIRALDRFEYGRTGRRLRVEWTKNDRGGAGRSGGSRRSSSGLRPSKTLFVINFDAQNTRTRDLERHFEPYGKIVNVRIRRNFAFIQYEAQEDATRALDATNSSKLMDKVISVEYAVK\", \"MKPVFCGNFEYDARESDLERLFRKYGKVERVDMKAGFAFVYMEDERDAEDAIRALDRFEYGRTGRRLRVEWTKNDRGGAGRSGGSRRSSSGLRPSKTLFVINFDAQNTRTRDLERHFEPYGKIVNVRIRRNFAFIQYEAQEDATRALDATNSSKLMDKVISVEYAVK\", \"MKPVFCGNFEYDARESDLERLFRKYGKVERVDMKAGFAFVYMEDERDAEDAIRALDRFEYGRTGRRLRVEWTKNDRGGAGRSGGSRRSSSGLRPSKTLFVINFDAQNTRTRDLERHFEPYGKIVNVRIRRNFAFIQYEAQEDATRALDATNSSKLMDKVISVEYAVK\", \"MKPVFCGNFEYDARESDLERLFRKYGKVERVDMKAGFAFVYMEDERDAEDAIRALDRFEYGRTGRRLRVEWTKNDRGGAGRSGGSRRSSSGLRPSKTLFVINFDAQNTRTRDLERHFEPYGKIVNVRIRRNFAFIQYEAQEDATRALDATNSSKLMDKVISVEYAVK\", \"MKPVFCGNFEYDARESDLERLFRKYGKVERVDMKAGFAFVYMEDERDAEDAIRALDRFEYGRTGRRLRVEWTKNDRGGAGRSGGSRRSSSGLRPSKTLFVINFDAQNTRTRDLERHFEPYGKIVNVRIRRNFAFIQYEAQEDATRALDATNSSKLMDKVISVEYAVK\", \"MKPVFCGNFEYDARESDLERLFRKYGKVERVDMKAGFAFVYMEDERDAEDAIRALDRFEYGRTGRRLRVEWTKNDRGGAGRSGGSRRSSSGLRPSKTLFVINFDAQNTRTRDLERHFEPYGKIVNVRIRRNFAFIQYEAQEDATRALDATNSSKLMDKVISVEYAVK\", \"MKPVFCGNFEYDARESDLERLFRKYGKVERVDMKAGFAFVYMEDERDAEDAIRALDRFEYGRTGRRLRVEWTKNDRGGAGRSGGSRRSSSGLRPSKTLFVINFDAQNTRTRDLERHFEPYGKIVNVRIRRNFAFIQYEAQEDATRALDATNSSKLMDKVISVEYAVK\"], Dict{String, Any}(), 0, Dict{String, Int32}(\"pe\" => 6, \"etotal\" => 5, \"ecoul\" => 9, \"edihed\" => 13, \"time\" => 2, \"evdwl\" => 8, \"ke\" => 7, \"step\" => 1, \"press\" => 4, \"eangle\" => 12…), Matrix{Float32}(undef, 0, 0), 100000, 100000, \"/localscratch/HPS_DATA/HPS-Alpha/SLAB/SLAB_Restart_Calvados2/RS41_RRM/280K/Data/x.bin\", \"/localscratch/HPS_DATA/HPS-Alpha/SLAB/SLAB_Restart_Calvados2/RS41_RRM/280K/Data/y.bin\", \"/localscratch/HPS_DATA/HPS-Alpha/SLAB/SLAB_Restart_Calvados2/RS41_RRM/280K/Data/z.bin\", IOStream(<file /localscratch/HPS_DATA/HPS-Alpha/SLAB/SLAB_Restart_Calvados2/RS41_RRM/280K/Data/x.bin>), IOStream(<file /localscratch/HPS_DATA/HPS-Alpha/SLAB/SLAB_Restart_Calvados2/RS41_RRM/280K/Data/y.bin>), IOStream(<file /localscratch/HPS_DATA/HPS-Alpha/SLAB/SLAB_Restart_Calvados2/RS41_RRM/280K/Data/z.bin>), Float32[87.0856 82.0624 … 84.1392 74.0182; 90.6879 84.137 … 80.9637 77.6101; … ; -112.421 -110.857 … -105.571 -120.089; -109.703 -112.79 … -105.36 -120.625], Float32[0.13765 -2.27213 … 42.5543 44.8466; 0.71055 -4.49891 … 40.4661 45.7118; … ; 34.2024 20.7381 … 101.744 105.424; 32.4771 24.1582 … 102.854 105.518], Float32[20.9462 27.9401 … 60.4382 70.5073; 21.9976 25.1255 … 61.4363 72.0573; … ; -66.5973 -79.3603 … -75.4894 -70.8539; -64.5774 -79.4192 … -79.0851 -66.9255], 1, 1//1, \"/localscratch/HPS_DATA/HPS-Alpha/SLAB/SLAB_Restart_Calvados2/RS41_RRM/280K/Data/x_uw.bin\", \"/localscratch/HPS_DATA/HPS-Alpha/SLAB/SLAB_Restart_Calvados2/RS41_RRM/280K/Data/y_uw.bin\", \"/localscratch/HPS_DATA/HPS-Alpha/SLAB/SLAB_Restart_Calvados2/RS41_RRM/280K/Data/z_uw.bin\", IOStream(<file /localscratch/HPS_DATA/HPS-Alpha/SLAB/SLAB_Restart_Calvados2/RS41_RRM/280K/Data/x_uw.bin>), IOStream(<file /localscratch/HPS_DATA/HPS-Alpha/SLAB/SLAB_Restart_Calvados2/RS41_RRM/280K/Data/y_uw.bin>), IOStream(<file /localscratch/HPS_DATA/HPS-Alpha/SLAB/SLAB_Restart_Calvados2/RS41_RRM/280K/Data/z_uw.bin>), Float32[87.0856 82.0624 … 84.1392 74.0182; 90.6879 84.137 … 80.9637 77.6101; … ; -112.421 -110.857 … -105.571 -120.08899; -109.703 -112.79 … -105.36 -120.625], Float32[0.13765 -2.27213 … 42.5543 44.8466; 0.71055 -4.49891 … 40.4661 45.7118; … ; 34.2024 20.7381 … 101.744 105.424; 32.4771 24.1582 … 102.854 105.518], Float32[20.9462 27.9401 … 60.4382 70.5073; 21.9976 25.1255 … 61.4363 72.0573; … ; -66.5973 -79.3603 … -75.4894 -70.8539; -64.5774 -79.4192 … -79.0851 -66.9255], \"/localscratch/HPS_DATA/HPS-Alpha/SLAB/SLAB_Restart_Calvados2/RS41_RRM/280K/\", \"/localscratch/HPS_DATA/HPS-Alpha/SLAB/SLAB_Restart_Calvados2/RS41_RRM/280K//Plots/\", \"/localscratch/HPS_DATA/HPS-Alpha/SLAB/SLAB_Restart_Calvados2/RS41_RRM/280K/Data/\", \"/localscratch/HPS_DATA/HPS-Alpha/SLAB/SLAB_Restart_Calvados2/RS41_RRM/280K/Trajectory.xyz\", \"/localscratch/HPS_DATA/HPS-Alpha/SLAB/SLAB_Restart_Calvados2/RS41_RRM/280K/energy.dat\", \"/localscratch/HPS_DATA/HPS-Alpha/SLAB/SLAB_Restart_Calvados2/RS41_RRM/280K/./RS41_RRM_280_Start_slab.txt\", [:x_uw, :y_uw, :z_uw, :SlabHistogramSeries], Int32[21, 6, 3, 4, 13, 20, 10, 19, 13, 17  …  6, 4, 15, 18, 4, 17, 14, 12, 4, 6], Float32[1.0, 1.0, 0.0, 0.0, 0.0, 0.0, 0.0, 0.0, 0.0, -1.0  …  1.0, 0.0, 0.0, 0.0, 0.0, -1.0, 0.0, 0.0, 0.0, 1.0], Float32[133.196, 128.172, 97.115, 99.131, 147.174, 103.143, 57.051, 114.103, 147.174, 129.114  …  128.172, 99.131, 113.158, 87.077, 99.131, 129.114, 163.173, 71.078, 99.131, 128.172], Float32[19428.58, 19410.58, 19410.58, 19410.58, 19410.58, 19410.58, 19410.58, 19410.58, 19410.58, 19410.58  …  19410.58, 19410.58, 19410.58, 19410.58, 19410.58, 19410.58, 19410.58, 19410.58, 19410.58, 19410.58], [74.83392 61.15898 -6.2531476; 57.625526 -86.9921 -71.40005; … ; -15.966313 10.424963 -60.60845; -83.612114 11.6391535 -78.838135;;; 69.780014 60.67725 -8.664726; 55.359783 -84.738014 -69.76128; … ; -14.153222 11.050055 -62.0706; -84.06563 10.62313 -81.43669;;; 68.22224 60.576336 -10.179238; 57.620556 -85.04773 -67.137054; … ; -11.908232 10.441627 -61.851486; -85.61528 10.484089 -78.91074;;; … ;;; 35.442715 49.317654 31.067648; -22.882288 -12.362425 -57.64257; … ; 45.55666 26.923061 -13.683454; 28.191053 68.664734 -56.542088;;; 37.724453 53.84723 32.789696; -25.287344 -9.900432 -57.37005; … ; 43.90204 25.862595 -14.402618; 29.874903 66.7284 -53.469925;;; 39.877605 52.213646 33.70684; -36.058865 -9.56467 -59.872005; … ; 42.427486 25.46791 -14.168878; 28.366821 69.76473 -54.98], [107.169235 61.15898 -6.2531476; 57.625526 -86.9921 -71.40005; … ; -15.966313 10.424963 -60.60845; -83.612114 11.6391535 -78.838135;;; 106.96565 60.67725 -8.664726; 55.359783 -84.738014 -69.76128; … ; -14.153222 11.050055 -62.0706; -84.06563 10.62313 -81.43669;;; 108.64139 60.576336 -10.179238; 57.620556 -85.04773 -67.137054; … ; -11.908232 10.441627 -61.851486; -85.61528 10.484089 -78.91074;;; … ;;; 117.8978 49.317654 31.067648; -129.5889 -12.362425 -112.61269; … ; 45.55666 26.923061 -13.683454; -151.27002 68.664734 -56.542088;;; 116.946014 53.84723 32.789696; -128.76044 -9.900432 -113.95688; … ; 43.90204 25.862595 -14.402618; -149.5862 66.7284 -53.469925;;; 117.48238 52.213646 33.70684; -128.21455 -9.56467 -113.22531; … ; 42.427486 25.46791 -14.168878; -149.47751 69.76473 -54.98], [76.28698 60.46887 -6.102743; 57.689556 -86.65774 -71.400215; … ; -15.383426 10.239732 -60.17943; -83.57326 10.916347 -78.45208;;; 71.00452 60.031704 -8.314749; 55.457115 -84.3334 -69.404526; … ; -13.713832 10.95658 -61.94369; -83.803856 9.829615 -81.01764;;; 70.6149 60.013237 -9.918054; 57.660847 -84.72848 -66.73547; … ; -11.424155 10.307429 -61.773823; -85.39393 9.927245 -78.509094;;; … ;;; 35.83247 49.143326 31.388819; -22.859407 -12.107082 -54.68669; … ; 45.9907 26.619892 -13.778559; 27.555569 68.32247 -56.164993;;; 38.383026 53.668354 33.15582; -27.128878 -9.731332 -55.23404; … ; 44.28743 25.421173 -14.484735; 29.302637 66.20883 -53.060104;;; 40.356853 52.076088 34.018963; -35.48393 -9.483226 -57.594486; … ; 42.763927 25.024897 -14.087074; 27.394905 69.217705 -54.695377], [106.81153 60.46887 -6.102743; 57.689556 -86.65774 -71.400215; … ; -15.383426 10.239732 -60.17943; -83.57326 10.916347 -78.45208;;; 106.67718 60.031704 -8.314749; 55.457115 -84.3334 -69.404526; … ; -13.713832 10.95658 -61.94369; -83.803856 9.829615 -81.01764;;; 108.26314 60.013237 -9.918054; 57.660847 -84.72848 -66.73547; … ; -11.424155 10.307429 -61.773823; -85.39393 9.927245 -78.509094;;; … ;;; 117.610985 49.143326 31.388819; -128.88745 -12.107082 -112.588776; … ; 45.9907 26.619892 -13.778559; -151.62227 68.32247 -56.164993;;; 116.50253 53.668354 33.15582; -128.01881 -9.731332 -113.81949; … ; 44.28743 25.421173 -14.484735; -149.87517 66.20883 -53.060104;;; 117.0856 52.076088 34.018963; -127.71261 -9.483226 -112.9751; … ; 42.763927 25.024897 -14.087074; -149.80487 69.217705 -54.695377], Dict{Int32, String}(5 => \"M\", 16 => \"T\", 20 => \"C\", 12 => \"A\", 8 => \"Q\", 17 => \"E\", 1 => \"H\", 19 => \"N\", 22 => \"K',\", 6 => \"K\"…), Float32[137.139, 186.21, 97.115, 99.131, 131.196, 128.172, 113.158, 128.129, 115.087, 57.051  …  147.174, 163.173, 113.158, 101.104, 129.114, 87.077, 114.103, 103.143, 133.196, 144.172], Int32[1, 168, 335, 502, 669, 836, 1003, 1170, 1337, 1504  …  31731, 31898, 32065, 32232, 32399, 32566, 32733, 32900, 33067, 33234], Int32[167, 334, 501, 668, 835, 1002, 1169, 1336, 1503, 1670  …  31897, 32064, 32231, 32398, 32565, 32732, 32899, 33066, 33233, 33400], Int32[167, 167, 167, 167, 167, 167, 167, 167, 167, 167  …  167, 167, 167, 167, 167, 167, 167, 167, 167, 167], 167, 1, 32.661808f0, 0.10045424f0, [22.26843 20.148731 … 25.227154 24.695932; 11.59533 10.206923 … 25.510351 24.341908; … ; 16.115719 15.996676 … 10.442655 11.729249; 23.400515 25.158781 … 26.642921 24.628584;;; 40.22615 40.641586 … 16.708483 16.308651; 25.55646 26.788565 … 14.715086 15.890248; … ; 12.060149 12.547726 … 31.02774 30.030416; 32.577175 29.333572 … 12.943732 13.030864;;; 17.130293 17.52108 … 12.480183 14.486532; 13.654386 13.738836 … 23.943657 22.68011; … ; 21.322445 18.83599 … 14.228671 13.242618; 20.375593 20.66757 … 18.0475 18.745897], Float32[49.066006 48.628162 … 32.731293 32.95028; 31.209398 31.789371 … 37.955376 36.87026; … ; 29.322521 27.715225 … 35.696285 34.853523; 44.989124 43.824326 … 34.6857 33.582424], Float32[0.9808063 0.9650626 … 0.00023242547 0.0001287292; 0.98158395 0.9666768 … 4.5227487f-5 1.161577f-5; … ; 0.9756932 0.955685 … -0.00016484286 -5.6558278f-5; 0.98025256 0.96466184 … 0.000298723 0.000114417715], Float32[31.656843, 30.870758, 30.225206, 34.008846, 32.898945, 34.743782, 31.217047, 37.42897, 35.00977, 38.501495  …  27.053026, 33.387096, 34.944347, 38.08569, 34.716423, 30.70245, 33.74206, 31.957327, 31.862528, 32.00753], Float32[0.09502002, 0.095014, 0.078149036, 0.10674338, 0.11193963, 0.108327456, 0.09874347, 0.11176187, 0.113638744, 0.10736866  …  0.07769853, 0.097751245, 0.12588717, 0.12766263, 0.09475354, 0.11185481, 0.10778408, 0.10890229, 0.08326753, 0.096037924], Float32[], Float32[], Float32[], Float32[], Float32[], Float32[], Float32[], Float32[], Float32[], Float32[], Float32[], 5.0f0, Float32[], Float32[], Float32[], Float32[], Float32[], Float32[], Int32[], Float32[], Float32[], Float32[], Float32[], Float32[], Float32[], Float32[], Float32[1.0], Float32[], Int32[4402], Float32[], Float32[], Float32[], 0, Int32[0 0; 0 0; 0 0], 20.0f0, Int32[], Vector{Int32}[], Vector{Int32}[], Vector{Int32}[], 1.0f0, Int32[], Dict{Tuple{Int32, Int32}, Bool}(), Dict{Tuple{Int32, Int32}, Int32}(), Float32[], Dict{Float32, Int32}(), Dict{Float32, Int32}(), Float32[], Float32[], Float32[], Float32[], Float32[], Int32[], Float32[], Float32[], Float32[], Float32[], UnitRange{Int32}[], Float32[], Float32[])"
      ]
     },
     "execution_count": 4,
     "metadata": {},
     "output_type": "execute_result"
    }
   ],
   "source": [
    "BasePath=\"/localscratch/HPS_DATA/HPS-Alpha/SLAB/SLAB_Restart_Calvados2/\"\n",
    "Protein=\"RS41_RRM\"\n",
    "Temp=280\n",
    "prot= LammpsAnalysis.initData(BasePath*\"$(Protein)/$(Temp)K/\", \"$(Protein)_slab.lmp\";Reparse=false)  "
   ]
  },
  {
   "cell_type": "code",
   "execution_count": 5,
   "metadata": {},
   "outputs": [
    {
     "ename": "LoadError",
     "evalue": "UndefVarError: tmp not defined",
     "output_type": "error",
     "traceback": [
      "UndefVarError: tmp not defined",
      "",
      "Stacktrace:",
      " [1] top-level scope",
      "   @ In[5]:2"
     ]
    }
   ],
   "source": [
    "prot.RGMeasureStep=50\n",
    "prot.NSteps=tmp\n",
    "#tmp = prot.NSteps\n",
    "prot.EquilibrationTime=1000\n",
    "#prot.NSteps=1000\n",
    "#clusters = computeClusters2(prot; Cutoff=15.0);"
   ]
  },
  {
   "cell_type": "code",
   "execution_count": 9,
   "metadata": {},
   "outputs": [
    {
     "name": "stdout",
     "output_type": "stream",
     "text": [
      "\u001b[33mFunction computeClusters does only detect charge contacts for clusters.\u001b[39m\n",
      "Step: Int32[451] of 4402\n",
      "Step: Int32[951] of 4402\n",
      "Step: Int32[1451] of 4402\n",
      "Step: Int32[1951] of 4402\n",
      "Step: Int32[2451] of 4402\n",
      "Step: Int32[2951] of 4402\n",
      "Step: Int32[3451] of 4402\n",
      "Step: Int32[3951] of 4402\n",
      " 15.357897 seconds (115.15 M allocations: 3.802 GiB, 5.26% gc time, 11.51% compilation time)\n"
     ]
    }
   ],
   "source": [
    "@time clusters= LammpsAnalysis.computeClusters(prot, Cutoff=8)\n",
    ";"
   ]
  },
  {
   "cell_type": "code",
   "execution_count": 10,
   "metadata": {},
   "outputs": [
    {
     "data": {
      "text/plain": [
       "89-element Vector{Int64}:\n",
       " 1\n",
       " 1\n",
       " 1\n",
       " 1\n",
       " 1\n",
       " 1\n",
       " 1\n",
       " 1\n",
       " 1\n",
       " 1\n",
       " 1\n",
       " 1\n",
       " 1\n",
       " ⋮\n",
       " 1\n",
       " 1\n",
       " 1\n",
       " 1\n",
       " 1\n",
       " 1\n",
       " 1\n",
       " 1\n",
       " 1\n",
       " 1\n",
       " 1\n",
       " 1"
      ]
     },
     "execution_count": 10,
     "metadata": {},
     "output_type": "execute_result"
    }
   ],
   "source": [
    "length.(clusters)\n",
    "argmax.([length.(C) for C in clusters])\n",
    "#argmax.(length.(clusters))"
   ]
  },
  {
   "cell_type": "code",
   "execution_count": null,
   "metadata": {},
   "outputs": [
    {
     "data": {
      "text/plain": [
       "computeClusterCOMs (generic function with 1 method)"
      ]
     },
     "execution_count": 37,
     "metadata": {},
     "output_type": "execute_result"
    }
   ],
   "source": [
    "function computeClusterCOMs(Sim::LammpsAnalysis.SimData{T,I2}, Clusters::Vector{Vector{Vector{I}}} ) where {I<:Integer, I2<:Integer, T<:Real}\n",
    "\n",
    "    Coms= Vector{Matrix{T}}()\n",
    "    for (step,C) in enumerate(Clusters)\n",
    "        tmp = zeros(length(C),3 )\n",
    "        for (CID,Cluster) in enumerate(C)\n",
    "            mass=0\n",
    "            for id in Cluster\n",
    "                tmp[CID,:].+= Sim.COM[id,:,step]*Sim.ChainMasses[CID]\n",
    "                mass+= Sim.ChainMasses[CID]\n",
    "            end\n",
    "            tmp[CID,:]./=mass\n",
    "        end\n",
    "        push!(Coms, tmp)\n",
    "    end\n",
    "    return Coms\n",
    "end"
   ]
  },
  {
   "cell_type": "code",
   "execution_count": 11,
   "metadata": {},
   "outputs": [
    {
     "ename": "LoadError",
     "evalue": "UndefVarError: computeClusterCOMs not defined",
     "output_type": "error",
     "traceback": [
      "UndefVarError: computeClusterCOMs not defined",
      "",
      "Stacktrace:",
      " [1] top-level scope",
      "   @ In[11]:1"
     ]
    }
   ],
   "source": [
    "bla = computeClusterCOMs(prot, clusters)"
   ]
  },
  {
   "cell_type": "code",
   "execution_count": null,
   "metadata": {},
   "outputs": [
    {
     "data": {
      "text/plain": [
       "(27, 3)"
      ]
     },
     "execution_count": 57,
     "metadata": {},
     "output_type": "execute_result"
    }
   ],
   "source": [
    "size(bla[1])"
   ]
  },
  {
   "cell_type": "code",
   "execution_count": 12,
   "metadata": {},
   "outputs": [
    {
     "data": {
      "text/plain": [
       "computeSlabHistogram (generic function with 1 method)"
      ]
     },
     "execution_count": 12,
     "metadata": {},
     "output_type": "execute_result"
    }
   ],
   "source": [
    "function computeSlabHistogram(Sim::LammpsAnalysis.SimData,Clusters::Vector{Vector{Vector{I}}} ) where {I<:Integer}\n",
    "\n",
    "    Clust_Coms = LammpsAnalysis.computeClusterCOMs(Sim, Clusters)\n",
    "    LClustID = argmax.([length.(C) for C in clusters]) ### returns index for clusters with most proteins inside\n",
    "    AxisCOM = [Clust_Coms[i][id, Sim.SlabAxis] for (i,id) in enumerate(LClustID)]\n",
    "\n",
    "    if Sim.SlabAxis==1\n",
    "        SlabCoord = Sim.x\n",
    "    elseif Sim.SlabAxis==2\n",
    "        SlabCoord = Sim.y  \n",
    "    elseif Sim.SlabAxis == 3\n",
    "        SlabCoord = Sim.z \n",
    "    else \n",
    "        ArgumentError(\"SlabAxis is not properly specified.\")\n",
    "    end\n",
    "\n",
    "\n",
    "    NHists = 1 + 2 + Sim.NAtomTypes # one normal, one for positive chage, one for negative charge and one for each type\n",
    "\n",
    "    ### array with 1:N steps for -boxwidth:boxwitdh in the direction of the slab\n",
    "    Sim.SlabHistogramSeries = OffsetArray(zeros(eltype(Sim.x), Int32(ceil((Sim.BoxSize[Sim.SlabAxis,2]-Sim.BoxSize[Sim.SlabAxis,1])/Sim.Resolution)) , Int32(Sim.NSteps), NHists), Int32(ceil(Sim.BoxSize[Sim.SlabAxis,1]/Sim.Resolution))+1:Int32(ceil(Sim.BoxSize[Sim.SlabAxis,2]/Sim.Resolution)) , 1:Sim.NSteps, 1:NHists)\n",
    "\n",
    "    AllAxis = [1,2,3]\n",
    "    deleteat!(AllAxis, Sim.SlabAxis)\n",
    "\n",
    "    #AxisCOM= [ sum(SlabCoord[:, step].*Sim.Masses)/(sum(Sim.Masses))  for step in 1:Sim.NSteps]\n",
    "\n",
    "\n",
    "    ### convert from dalton/AA^3 to kg/L=g/mL  divided by Volume element per bin\n",
    "    volume =((Sim.BoxSize[AllAxis[1],2]-Sim.BoxSize[AllAxis[1],1])*(Sim.BoxSize[AllAxis[2],2]-Sim.BoxSize[AllAxis[2],1]))\n",
    "    conversion = 1.66053906660/volume/Sim.Resolution\n",
    "    println(\"Conversion $(conversion), Volume: $(volume)\")\n",
    "    lowestind = Int32(ceil(Sim.BoxSize[Sim.SlabAxis,1]/Sim.Resolution))+1\n",
    "    highestind = Int32(ceil(Sim.BoxSize[Sim.SlabAxis,2]/Sim.Resolution)) \n",
    "    printstyled(\"Subtract COM and add wrap afterwards\\n\"; color=:red)\n",
    "\n",
    "    for (j,step) in enumerate(Sim.EquilibrationTime:Sim.RGMeasureStep:Sim.NSteps)### 1:NSteps\n",
    "        for atom in 1:Sim.NAtoms ### 1:Atoms\n",
    "            ### so far dont use particles that arent in the box\n",
    "            ind = Int32(ceil((SlabCoord[atom,step]-AxisCOM[j])/Sim.Resolution))\n",
    "\n",
    "            #ind = ind >= lowestind && ind<= highestind ?  ind : continue\n",
    "            if ind < lowestind \n",
    "               # println(\"pre a: $ind\")\n",
    "                ind = highestind - (lowestind-ind)\n",
    "                #println(ind)\n",
    "            elseif  ind> highestind\n",
    "                ind =lowestind + (ind-highestind)\n",
    "            end\n",
    "\n",
    "            Sim.SlabHistogramSeries[ind , step,1]+= Sim.Masses[atom]\n",
    "            if Sim.Charges[atom] > 0\n",
    "                Sim.SlabHistogramSeries[ind , step,2]+= Sim.Masses[atom]\n",
    "            elseif Sim.Charges[atom] < 0\n",
    "                Sim.SlabHistogramSeries[ind , step,3]+= Sim.Masses[atom]\n",
    "            end\n",
    "            Sim.SlabHistogramSeries[ind, step, Sim.IDs[atom]+3]+= Sim.Masses[atom] ### lowest ID is 1\n",
    "\n",
    "        end\n",
    "        for ind in axes(Sim.SlabHistogramSeries,1)\n",
    "            for type in axes(Sim.SlabHistogramSeries,3)\n",
    "                Sim.SlabHistogramSeries[ind, step,type] *= conversion\n",
    "            end\n",
    "        end \n",
    "    end\n",
    "end"
   ]
  },
  {
   "cell_type": "code",
   "execution_count": 13,
   "metadata": {},
   "outputs": [
    {
     "name": "stdout",
     "output_type": "stream",
     "text": [
      "Conversion 4.555662734156378e-6, Volume: 72900.0\n",
      "\u001b[31mSubtract COM and add wrap afterwards\u001b[39m\n"
     ]
    }
   ],
   "source": [
    "computeSlabHistogram(prot, clusters)"
   ]
  },
  {
   "cell_type": "code",
   "execution_count": null,
   "metadata": {},
   "outputs": [],
   "source": []
  }
 ],
 "metadata": {
  "kernelspec": {
   "display_name": "Julia (8 threads) 1.8.2",
   "language": "julia",
   "name": "julia-_8-threads_-1.8"
  },
  "language_info": {
   "file_extension": ".jl",
   "mimetype": "application/julia",
   "name": "julia",
   "version": "1.8.2"
  }
 },
 "nbformat": 4,
 "nbformat_minor": 2
}
