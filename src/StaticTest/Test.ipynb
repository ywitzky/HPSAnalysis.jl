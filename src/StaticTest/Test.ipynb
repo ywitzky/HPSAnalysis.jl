{
 "cells": [
  {
   "cell_type": "code",
   "execution_count": 2,
   "metadata": {},
   "outputs": [],
   "source": [
    "using Revise"
   ]
  },
  {
   "cell_type": "code",
   "execution_count": 3,
   "metadata": {},
   "outputs": [
    {
     "name": "stderr",
     "output_type": "stream",
     "text": [
      "\u001b[36m\u001b[1m[ \u001b[22m\u001b[39m\u001b[36m\u001b[1mInfo: \u001b[22m\u001b[39mPrecompiling Plots [91a5bcdd-55d7-5caf-9e0b-520d859cae80]\n",
      "\u001b[36m\u001b[1m[ \u001b[22m\u001b[39m\u001b[36m\u001b[1mInfo: \u001b[22m\u001b[39mPrecompiling IJuliaExt [2f4121a4-3b3a-5ce6-9c5e-1f2673ce168a]\n"
     ]
    }
   ],
   "source": [
    "using Plots"
   ]
  },
  {
   "cell_type": "code",
   "execution_count": 4,
   "metadata": {},
   "outputs": [
    {
     "name": "stderr",
     "output_type": "stream",
     "text": [
      "\u001b[32m\u001b[1mPrecompiling\u001b[22m\u001b[39m project...\n",
      "\u001b[32m  ✓ \u001b[39m\u001b[90mPlots → FileIOExt\u001b[39m\n",
      "\u001b[32m  ✓ \u001b[39m\u001b[90mPlots → UnitfulExt\u001b[39m\n",
      "\u001b[32m  ✓ \u001b[39mLammpsAnalysis\n",
      "  3 dependencies successfully precompiled in 27 seconds. 251 already precompiled.\n"
     ]
    }
   ],
   "source": [
    "using Pkg\n",
    "Pkg.instantiate()"
   ]
  },
  {
   "cell_type": "code",
   "execution_count": 5,
   "metadata": {},
   "outputs": [],
   "source": [
    "using HPSAnalysis"
   ]
  },
  {
   "cell_type": "markdown",
   "metadata": {},
   "source": [
    "### Meta Data"
   ]
  },
  {
   "cell_type": "code",
   "execution_count": 6,
   "metadata": {},
   "outputs": [],
   "source": [
    "push!(LOAD_PATH, \"/uni-mainz.de/homes/ywitzky/phdscripts/Julia/Analysis/\")\n",
    "\n",
    "push!(LOAD_PATH, \"/uni-mainz.de/homes/ywitzky/phdscripts/Julia/HPSAnalysis/\")\n",
    "push!(LOAD_PATH, \"/uni-mainz.de/homes/ywitzky/phdscripts/Julia/HPSAnalysis/src/\")\n",
    "\n",
    "#push!(LOAD_PATH, \"/uni-mainz.de/homes/ywitzky/phdscripts/Analysis/Lammps/\")\n",
    "#import Setup \n",
    "using ProteinSequences, Setup"
   ]
  },
  {
   "cell_type": "code",
   "execution_count": 7,
   "metadata": {},
   "outputs": [
    {
     "data": {
      "text/plain": [
       "true"
      ]
     },
     "execution_count": 7,
     "metadata": {},
     "output_type": "execute_result"
    }
   ],
   "source": [
    "OneToLamba  = Dict([('E', 0.460), ('K',0.514)])\n",
    "OneToSigma  = Dict([('E', 5.92), ('K',6.36)])\n",
    "OneToCharge = Dict([('E',-1.0),('K',1.0)])\n",
    "\n",
    "BoxLength=240\n",
    "NewPath = \"/localscratch/HPS_DATA/HREMD/ArashReproduction_WeakDamp//\"\n",
    "RECALC=true"
   ]
  },
  {
   "cell_type": "code",
   "execution_count": 8,
   "metadata": {},
   "outputs": [
    {
     "data": {
      "text/plain": [
       "1-element Vector{String}:\n",
       " \"EKEKEKEKEKEKEKEKEKEKEKEKEKEKEKEKEKEKEKEKEKEKEKEKEK\""
      ]
     },
     "execution_count": 8,
     "metadata": {},
     "output_type": "execute_result"
    }
   ],
   "source": [
    "ToCreate =[\"EKEKEKEKEKEKEKEKEKEKEKEKEKEKEKEKEKEKEKEKEKEKEKEKEK\"]\n"
   ]
  },
  {
   "cell_type": "markdown",
   "metadata": {},
   "source": [
    "### Creating Simulations"
   ]
  },
  {
   "cell_type": "code",
   "execution_count": 9,
   "metadata": {},
   "outputs": [],
   "source": [
    "if false\n",
    "ProteinNames = []\n",
    "RelativePaths = []\n",
    "println(ToCreate)\n",
    "NewPath = \"/localscratch/HPS_DATA/HREMD/ArashReproduction_WeakDamp/\"\n",
    "for (protID, seq) in enumerate(ToCreate)\n",
    "    protein = \"EKV_$protID\"\n",
    "    push!(ProteinNames, \"$(protein)\")\n",
    "    append!(RelativePaths, [\"./$(protein)/\"])\n",
    "\n",
    "    mkpath(NewPath*\"$(protein)/\")\n",
    "    mkpath(NewPath*\"$(protein)/Restart/\")\n",
    "    Path = NewPath*\"$(protein)/\"\n",
    "    cd(Path)\n",
    "\n",
    "    N = length(seq)\n",
    "    Pos = zeros(Float64, (N,3))\n",
    "    for i in 1:N\n",
    "        Pos[i, 1] = -BoxLength./2.0+i*3.8\n",
    "    end\n",
    "\n",
    "    Info =\"Trying to replicate the paper \\\"Effect of Charge Distribution on the Dynamics of Polyampholytic Disordered Proteins\\\".\\n\\n\"\n",
    "\n",
    "    BoxSize = [-BoxLength/2., BoxLength/2.,-BoxLength/2., BoxLength/2.,-BoxLength/2., BoxLength /2.]\n",
    "\n",
    "    SimName = \"$(protein)\"\n",
    "\n",
    "    Setup.writeStartConfiguration(\"./$(protein)\",\"./$(SimName)_Start\", Info, [seq], BoxSize , 100_000_000; SimulationType=\"ArashModell\" , Temperature=300,  InitStyle=\"Pos\", Pos=Pos, OneToChargeDef=OneToCharge, OneToLambdaDef=OneToLamba, OneToSigmaDef=OneToSigma, WriteOutFreq=100 )\n",
    "    #end\n",
    "end\n",
    "mkpath(NewPath*\"SlurmScripts/\")\n",
    "Setup.writeCollectedSlurmScript(NewPath*\"SlurmScripts/\", ProteinNames, RelativePaths ,ones(Int16,length(ProteinNames)),2*ones(Int16,length(ProteinNames)); ProteinsPerSlurmFile=48, Restarts=0, SlurmAccName=\"rsproteins\", JobName=\"EKV\")\n",
    "\n",
    "end"
   ]
  },
  {
   "cell_type": "markdown",
   "metadata": {},
   "source": [
    "### Analysis"
   ]
  },
  {
   "cell_type": "code",
   "execution_count": 10,
   "metadata": {},
   "outputs": [
    {
     "name": "stderr",
     "output_type": "stream",
     "text": [
      "\u001b[36m\u001b[1m[ \u001b[22m\u001b[39m\u001b[36m\u001b[1mInfo: \u001b[22m\u001b[39mPrecompiling Parquet2 [98572fba-bba0-415d-956f-fa77e587d26d]\n",
      "\u001b[36m\u001b[1m[ \u001b[22m\u001b[39m\u001b[36m\u001b[1mInfo: \u001b[22m\u001b[39mPrecompiling BangBangDataFramesExt [d787bcad-b5c5-56bb-adaa-6bfddb178a59]\n",
      "\u001b[36m\u001b[1m[ \u001b[22m\u001b[39m\u001b[36m\u001b[1mInfo: \u001b[22m\u001b[39mPrecompiling TransducersDataFramesExt [cefb4096-3352-5e5f-8501-71f024082a88]\n"
     ]
    }
   ],
   "source": [
    "using LsqFit, Plots, SpecialFunctions, Parquet2, DataFrames\n",
    "using Parquet2: Dataset"
   ]
  },
  {
   "cell_type": "code",
   "execution_count": null,
   "metadata": {},
   "outputs": [
    {
     "name": "stdout",
     "output_type": "stream",
     "text": [
      "energy file step: 1000001 , number of restarts: 0 vs. 1000001 , 1//1\n",
      "/localscratch/HPS_DATA/HREMD/ArashReproduction_WeakDamp//EKV_1/Trajectory.h5\n",
      "7119.760745368525,1.0766340329195914,8.804407459663633,0.0021447636726433916\n",
      "energy file step: 1000001 , number of restarts: 0 vs. 1000001 , 1//1\n",
      "/localscratch/HPS_DATA/HREMD/ArashReproduction_WeakDamp//EKV_2/Trajectory.h5\n",
      "7404.3028121045245,0.9897004718283126,6.95493392908983,0.0013746485984251454\n",
      "energy file step: 1000001 , number of restarts: 0 vs. 1000001 , 1//1\n",
      "/localscratch/HPS_DATA/HREMD/ArashReproduction_WeakDamp//EKV_3/Trajectory.h5\n",
      "8107.591899823372,1.0091844080287102,13.089342100524945,0.0024581166042068094\n",
      "energy file step: 1000001 , number of restarts: 0 vs. 1000001 , 1//1\n",
      "/localscratch/HPS_DATA/HREMD/ArashReproduction_WeakDamp//EKV_4/Trajectory.h5\n",
      "4534.17814470399,0.8648704044862077,4.9340163208023,0.0012053011016607484\n",
      "energy file step: 1000001 , number of restarts: 0 vs. 1000001 , 1//1\n"
     ]
    }
   ],
   "source": [
    "\n",
    "NLag =100000\n",
    "if false\n",
    "    tau  = zeros(length(ToCreate))\n",
    "    Δtau = zeros(length(ToCreate))\n",
    "    RG   = zeros(length(ToCreate))\n",
    "    ΔRG  = zeros(length(ToCreate))\n",
    "    REE  = zeros(length(ToCreate))\n",
    "    ΔREE = zeros(length(ToCreate))\n",
    "    for (protID, seq) in enumerate(ToCreate)\n",
    "        prot = HPSAnalysis.initData(NewPath*\"EKV_$protID/\", \"./EKV_$(protID).lmp\"; StepFrequency=1, Reparse=false, LoadAll=true) ;\n",
    "        prot.EquilibrationTime=10_000\n",
    "        \n",
    "        HPSAnalysis.computeCOM!(prot)\n",
    "        HPSAnalysis.computeRGComponentSeries!(prot)\n",
    "        HPSAnalysis.computeRGCorrelationTime(prot, NLag)\n",
    "        HPSAnalysis.plotRGAutocorr(prot)\n",
    "\n",
    "\n",
    "        HPSAnalysis.computeREESeries!(prot)\n",
    "        decorTime  = HPSAnalysis.computeREEAutocorr(prot,NLag)\n",
    "        τ,β,Δτ,Δβ = fitKWK(prot)\n",
    "        println(\"$(τ),$(β),$(Δτ),$(Δβ)\")\n",
    "        #plotRGAutocorr(prot, parm)\n",
    "        tau[protID] = τ/β*gamma(1.0/β)\n",
    "        Δtau[protID] = sqrt( (Δτ/β*gamma(1/β))^2 + Δβ*τ/β^3*gamma(1/β)*(β+polygamma(0,1/β)))\n",
    "\n",
    "\n",
    "        RG[protID],ΔRG[protID], REE[protID], ΔREE[protID] = computeSizes(prot, decorTime[1,1])\n",
    "\n",
    "        HPSAnalysis.SaveAllData(prot)\n",
    "    end\n",
    "end"
   ]
  },
  {
   "cell_type": "code",
   "execution_count": 11,
   "metadata": {},
   "outputs": [],
   "source": [
    "NewPath = \"/localscratch/HPS_DATA/HREMD/ArashReproduction_WeakDamp/\"\n",
    "protID=1\n",
    "prot = LammpsAnalysis.initData(NewPath*\"EKV_$protID/\", \"./EKV_$(protID).lmp\"; StepFrequency=1, Reparse=false, LoadAll=true) ;\n"
   ]
  },
  {
   "cell_type": "code",
   "execution_count": 12,
   "metadata": {},
   "outputs": [],
   "source": [
    "using StaticArrays"
   ]
  },
  {
   "cell_type": "code",
   "execution_count": 13,
   "metadata": {},
   "outputs": [
    {
     "data": {
      "text/plain": [
       "(50, 1000001)"
      ]
     },
     "execution_count": 13,
     "metadata": {},
     "output_type": "execute_result"
    }
   ],
   "source": [
    "size(prot.x)"
   ]
  },
  {
   "cell_type": "code",
   "execution_count": 46,
   "metadata": {},
   "outputs": [
    {
     "data": {
      "text/plain": [
       "test (generic function with 2 methods)"
      ]
     },
     "execution_count": 46,
     "metadata": {},
     "output_type": "execute_result"
    }
   ],
   "source": [
    "function test(prot)\n",
    "    CMaskx = MArray{Tuple{50,1}, Float32}(zeros(50))\n",
    "    res = zeros(prot.NSteps)\n",
    "    for i in 1:prot.NSteps\n",
    "        CMaskx .= @view prot.x[:,i]\n",
    "        res[i] = sum(CMaskx, dims=1)[1,1]\n",
    "    end\n",
    "    return res\n",
    "end"
   ]
  },
  {
   "cell_type": "code",
   "execution_count": null,
   "metadata": {},
   "outputs": [],
   "source": [
    "function test_alt(prot)\n",
    "    CMaskx = MArray{Tuple{50,1}, Float32}(zeros(50))\n",
    "    res = zeros(prot.NSteps)\n",
    "    for i in 1:prot.NSteps\n",
    "        #CMaskx .= @view prot.x[:,i]\n",
    "        res[i] = sum(prot.x[1:N], dims=1)\n",
    "    end\n",
    "    return res\n",
    "end"
   ]
  },
  {
   "cell_type": "code",
   "execution_count": 71,
   "metadata": {},
   "outputs": [
    {
     "data": {
      "text/plain": [
       "test_old (generic function with 2 methods)"
      ]
     },
     "execution_count": 71,
     "metadata": {},
     "output_type": "execute_result"
    }
   ],
   "source": [
    "function test_old(prot, res)\n",
    "    CMaskx = MArray{Tuple{50,1}, Float32}(zeros(50))\n",
    "    for (chain, start, stop) in zip(1:prot.NChains, prot.ChainStart, prot.ChainStop)\n",
    "        res .= sum(prot.x[start:stop,:], dims=1)\n",
    "    end\n",
    "    return res\n",
    "end"
   ]
  },
  {
   "cell_type": "code",
   "execution_count": 91,
   "metadata": {},
   "outputs": [
    {
     "data": {
      "text/plain": [
       "test_new (generic function with 1 method)"
      ]
     },
     "execution_count": 91,
     "metadata": {},
     "output_type": "execute_result"
    }
   ],
   "source": [
    "function test_new(prot, res)\n",
    "    for i in axes(prot.x, 2)\n",
    "        res[i] = sum(@view prot.x[:,i])\n",
    "    end\n",
    "    return res\n",
    "end"
   ]
  },
  {
   "cell_type": "code",
   "execution_count": 92,
   "metadata": {},
   "outputs": [
    {
     "name": "stdout",
     "output_type": "stream",
     "text": [
      "  0.574089 seconds (8.05 M allocations: 171.240 MiB, 5.03% gc time, 8.94% compilation time)\n",
      "  0.559133 seconds (8.00 M allocations: 167.816 MiB, 11.05% gc time)\n"
     ]
    },
    {
     "data": {
      "text/plain": [
       "1×1000001 Matrix{Float64}:\n",
       " -1155.0  -1154.55  -1150.62  -1146.9  …  -1332.42  -1329.13  -1326.26"
      ]
     },
     "execution_count": 92,
     "metadata": {},
     "output_type": "execute_result"
    }
   ],
   "source": [
    "res = zeros(1,prot.NSteps)\n",
    "\n",
    "@time test_new(prot, res)\n",
    "@time test_new(prot, res)"
   ]
  },
  {
   "cell_type": "code",
   "execution_count": 72,
   "metadata": {},
   "outputs": [
    {
     "name": "stdout",
     "output_type": "stream",
     "text": [
      "  0.143657 seconds (42.64 k allocations: 197.469 MiB, 8.24% gc time, 25.90% compilation time)\n",
      "  0.113660 seconds (11 allocations: 194.551 MiB, 8.07% gc time)\n"
     ]
    },
    {
     "data": {
      "text/plain": [
       "1×1000001 Matrix{Float64}:\n",
       " -1155.0  -1154.55  -1150.62  -1146.9  …  -1332.42  -1329.13  -1326.26"
      ]
     },
     "execution_count": 72,
     "metadata": {},
     "output_type": "execute_result"
    }
   ],
   "source": [
    "res = zeros(1,prot.NSteps)\n",
    "\n",
    "@time test_old(prot, res)\n",
    "@time test_old(prot, res)"
   ]
  },
  {
   "cell_type": "code",
   "execution_count": 51,
   "metadata": {},
   "outputs": [
    {
     "name": "stderr",
     "output_type": "stream",
     "text": [
      "\u001b[36m\u001b[1m[ \u001b[22m\u001b[39m\u001b[36m\u001b[1mInfo: \u001b[22m\u001b[39mPrecompiling ProfileView [c46f51b8-102a-5cf2-8d2c-8597cb0e0da7]\n"
     ]
    }
   ],
   "source": [
    "using ProfileView, Profile"
   ]
  },
  {
   "cell_type": "code",
   "execution_count": 63,
   "metadata": {},
   "outputs": [
    {
     "name": "stdout",
     "output_type": "stream",
     "text": [
      "  0.961392 seconds (7.00 M allocations: 205.971 MiB, 2.40% gc time)\n",
      "  1.014201 seconds (7.00 M allocations: 205.971 MiB, 4.15% gc time)\n"
     ]
    },
    {
     "data": {
      "text/plain": [
       "1000001-element Vector{Float64}:\n",
       " -1155.0\n",
       " -1154.550537109375\n",
       " -1150.6207275390625\n",
       " -1146.9013671875\n",
       " -1140.1151123046875\n",
       " -1140.8868408203125\n",
       " -1143.145751953125\n",
       " -1140.6646728515625\n",
       " -1136.853515625\n",
       " -1139.97705078125\n",
       " -1139.94140625\n",
       " -1147.108154296875\n",
       " -1146.0931396484375\n",
       "     ⋮\n",
       " -1338.9320068359375\n",
       " -1340.6063232421875\n",
       " -1575.18017578125\n",
       " -1580.1484375\n",
       " -1579.2777099609375\n",
       " -1340.115966796875\n",
       " -1329.777587890625\n",
       " -1331.06689453125\n",
       " -1331.7659912109375\n",
       " -1332.423095703125\n",
       " -1329.1322021484375\n",
       " -1326.2608642578125"
      ]
     },
     "execution_count": 63,
     "metadata": {},
     "output_type": "execute_result"
    }
   ],
   "source": [
    "@time test(prot)\n",
    "@time test(prot)"
   ]
  },
  {
   "cell_type": "code",
   "execution_count": 32,
   "metadata": {},
   "outputs": [
    {
     "name": "stdout",
     "output_type": "stream",
     "text": [
      "  0.000020 seconds (4 allocations: 160 bytes)\n",
      "  0.000018 seconds (4 allocations: 480 bytes)\n"
     ]
    },
    {
     "data": {
      "text/plain": [
       "50×1 MMatrix{50, 1, Float32, 50} with indices SOneTo(50)×SOneTo(1):\n",
       " -114.48452\n",
       " -110.86716\n",
       " -107.78048\n",
       " -103.98989\n",
       "  -99.8423\n",
       "  -96.150764\n",
       "  -92.38892\n",
       "  -88.666985\n",
       "  -85.02599\n",
       "  -81.300026\n",
       "  -77.28201\n",
       "  -73.826355\n",
       "  -69.86911\n",
       "    ⋮\n",
       "   28.228256\n",
       "   31.950687\n",
       "   35.776417\n",
       "   39.21366\n",
       "   42.84701\n",
       "   46.50735\n",
       "   49.938477\n",
       "   53.774338\n",
       "   57.223022\n",
       "   60.37103\n",
       "   63.545372\n",
       "   66.958824"
      ]
     },
     "execution_count": 32,
     "metadata": {},
     "output_type": "execute_result"
    }
   ],
   "source": [
    "#CMaskx = reshape((@view prot.x[:]),(50,1,1000001))\n",
    "CMaskx = MArray{Tuple{50,1}, Float32}(zeros(50))\n",
    "@time CMaskx .= @view prot.x[:,15]\n",
    "@time bla=MArray{Tuple{50,1}, Float32}(MArray{Tuple{50,1}, Float32}(@view prot.x[:,15]))"
   ]
  },
  {
   "cell_type": "code",
   "execution_count": 33,
   "metadata": {},
   "outputs": [
    {
     "data": {
      "text/plain": [
       "MMatrix{50, 1, Float32, 50}\u001b[90m (alias for \u001b[39m\u001b[90mMArray{Tuple{50, 1}, Float32, 2, 50}\u001b[39m\u001b[90m)\u001b[39m"
      ]
     },
     "execution_count": 33,
     "metadata": {},
     "output_type": "execute_result"
    }
   ],
   "source": [
    "typeof(CMaskx)"
   ]
  },
  {
   "cell_type": "code",
   "execution_count": 34,
   "metadata": {},
   "outputs": [
    {
     "data": {
      "text/plain": [
       "20.000020000000003"
      ]
     },
     "execution_count": 34,
     "metadata": {},
     "output_type": "execute_result"
    }
   ],
   "source": [
    "0.000020 * 1000001\n"
   ]
  },
  {
   "cell_type": "code",
   "execution_count": null,
   "metadata": {},
   "outputs": [],
   "source": []
  }
 ],
 "metadata": {
  "kernelspec": {
   "display_name": "Julia 1.9.3",
   "language": "julia",
   "name": "julia-1.9"
  },
  "language_info": {
   "file_extension": ".jl",
   "mimetype": "application/julia",
   "name": "julia",
   "version": "1.9.3"
  }
 },
 "nbformat": 4,
 "nbformat_minor": 2
}
