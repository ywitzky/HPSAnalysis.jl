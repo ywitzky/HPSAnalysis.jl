{
 "cells": [
  {
   "cell_type": "code",
   "execution_count": 1,
   "metadata": {},
   "outputs": [],
   "source": [
    "using Revise\n"
   ]
  },
  {
   "cell_type": "code",
   "execution_count": 15,
   "metadata": {},
   "outputs": [],
   "source": [
    "push!(LOAD_PATH, \"/uni-mainz.de/homes/ywitzky/phdscripts/Julia/Analysis/\")\n",
    "push!(LOAD_PATH, \"/uni-mainz.de/homes/ywitzky/phdscripts/Julia/HPSAnalysis/\")\n",
    "push!(LOAD_PATH, \"/uni-mainz.de/homes/ywitzky/phdscripts/Julia/HPSAnalysis/src/\")\n",
    "using ProteinSequences, Setup\n",
    "using HPSAnalysis\n"
   ]
  },
  {
   "cell_type": "code",
   "execution_count": 3,
   "metadata": {},
   "outputs": [],
   "source": [
    "\n",
    "NewPath = \"/localscratch/HPS_DATA/HPS-Alpha/SLAB/HOOMD/\"\n",
    "\n",
    "Seitenlaenge =Dict(\"Test2\"=>50.0,  \"FUS\"=>150.0,  \"RS31a\"=> 325.,\"RS41\"=> 325., \"RS41_PHOS6\"=> 325., \"RS40\"=> 325., \"RS41_IDR2\"=> 270.,\"RS41_PHOS6_IDR2\"=> 270., \"RS41_RRM\"=>270., \"RS31a_IDR2\"=> 170., \"RS31\"=>270);"
   ]
  },
  {
   "cell_type": "code",
   "execution_count": 4,
   "metadata": {},
   "outputs": [],
   "source": [
    "using Printf\n"
   ]
  },
  {
   "cell_type": "code",
   "execution_count": 5,
   "metadata": {},
   "outputs": [
    {
     "name": "stderr",
     "output_type": "stream",
     "text": [
      "WARNING: method definition for WriteHOOMDParticlesInput at /uni-mainz.de/homes/ywitzky/phdscripts/Julia/LammpsAnalysis/src/Setup/HOOMD_Setup.jl:22 declares type variable I but does not use it.\n"
     ]
    },
    {
     "data": {
      "text/plain": [
       "WriteParams (generic function with 1 method)"
      ]
     },
     "metadata": {},
     "output_type": "display_data"
    }
   ],
   "source": [
    "include(\"/uni-mainz.de/homes/ywitzky/phdscripts/Julia/HPSAnalysis/src/Setup/HOOMD_Setup.jl\")\n"
   ]
  },
  {
   "cell_type": "code",
   "execution_count": 19,
   "metadata": {},
   "outputs": [
    {
     "name": "stdout",
     "output_type": "stream",
     "text": [
      "[325.0, 1500.0, 325.0]\n",
      "[138.91000366210938, 139.32998657226562, 141.26998901367188, 146.19000244140625, 151.27999877929688, 153.17001342773438, 156.20999145507812, -161.22999572753906, -157.3000030517578, -158.14999389648438, -160.92999267578125, -159.42999267578125, -157.3000030517578, -158.42999267578125, -160.0, 162.42999267578125, 158.54998779296875, 158.92001342773438, 159.05999755859375, 160.17999267578125, -161.13999938964844, -160.3000030517578, 160.95999145507812, -157.6999969482422, -153.24000549316406, -153.86000061035156, -158.3000030517578, -157.08999633789062, 160.739990234375, 162.42999267578125, 157.79998779296875]\n"
     ]
    },
    {
     "name": "stdout",
     "output_type": "stream",
     "text": [
      "Any[1, 2, 2, 3, 4, 5, 6, 7, 8, 9, 10, 11, 11, 12, 13, 14, 14, 15, 16, 17, 18, 19, 20, 21, 22, 23, 24, 24, 25, 26, 27, 28, 29, 30, 31, 32, 33, 33, 34, 35, 35, 36, 37, 38, 39, 39, 40, 41, 42, 43, 44, 45, 45, 46, 47, 48, 49, 50, 51, 52, 53, 54, 55, 55, 56, 56, 56, 57, 58, 59, 60, 61, 62, 63, 64, 65, 66, 66, 67, 68, 69, 70, 71, 72, 73, 73, 74, 74, 75, 76, 77, 78, 79, 80, 81, 82, 83, 84, 85, 86, 87, 88, 89, 90, 91, 92, 93, 94, 95, 96, 96, 97, 98, 99, 100, 101, 102, 103, 104, 104, 105, 106, 107, 107, 108, 109, 110, 111, 112, 113, 114, 115, 115, 116, 117, 118, 118, 119, 120, 121, 122, 123, 124, 125, 126, 127, 128, 129, 130, 131, 132, 133, 134, 134, 135, 135, 135, 136, 137, 138, 139, 140, 141, 142, 143, 144, 145, 146, 147, 148, 149, 150, 151, 152, 153, 154, 155, 156, 156, 157, 157, 158, 159, 159, 160, 161, 162, 163, 163, 164, 165, 166, 166, 167, 168, 168, 169, 170, 171, 172, 172, 173, 174, 175, 176, 177, 178, 179, 179, 180, 180, 181, 181, 182, 183, 184, 185, 186, 187, 188, 188, 189, 190, 191, 191, 192, 193, 194, 195, 196, 197, 198, 199, 199, 200, 201, 202, 203, 204, 205, 206, 207, 208, 209, 210, 211, 212, 213, 214, 215, 216, 217, 218, 219, 220, 221, 222, 223, 224, 225, 226, 227, 228, 229, 230, 231, 232, 233, 234, 235, 236, 237, 238]\n"
     ]
    },
    {
     "data": {
      "text/plain": [
       "\"/localscratch/HPS_DATA/HPS-Alpha/SLAB/HOOMD/SlurmScripts\""
      ]
     },
     "metadata": {},
     "output_type": "display_data"
    }
   ],
   "source": [
    "#pos = zeros(Float32,71400,3 )\n",
    "\n",
    "if true\n",
    "    local RunsPerProtein =ones(Int32, 100)\n",
    "    local ToCreate = [\"RS41_PHOS6\"] #\"RS31a_IDR2\"[\"RS31a_IDR2\", \"RS41_RRM\", \"RS31\", \"RS40\",\"RS31a\", \"RS41\", \"RS41_PHOS6\", \"RS41_IDR2\", \"RS41_PHOS6_IDR2\"]  #\"RS31\",      \"RS31a_IDR2\", \"RS41_RRM\",         #[\"RS31\", \"RS40\"] #IDR_Proteins#[\"RS41\", \"RS41_PHOS6\"]\n",
    "    local NChains=200 #200\n",
    "    local Restart=false\n",
    "    local ProteinNames = []\n",
    "    local RelativePaths = []\n",
    "    \n",
    "    CoresPerRun=12\n",
    "    ChargeSteps =[ 1 ]#,1.0, 1.2] ### must be even number of steps to be efficient\n",
    "\n",
    "    for (protID, protein) in enumerate(ToCreate)\n",
    "        for temp in [320] #Temperatures\n",
    "            push!(ProteinNames, \"$(protein)_slab\")\n",
    "            append!(RelativePaths, [\"./$(protein)/$(temp)K\"])\n",
    "\n",
    "            pad = lpad(RunsPerProtein[protID],3,\"0\")\n",
    "            mkpath(NewPath*\"$(protein)/$(temp)K/\")\n",
    "            mkpath(NewPath*\"$(protein)/$(temp)K/Restart/\")\n",
    "            mkpath(NewPath*\"$(protein)/$(temp)K/HOOMD_Setup/\")\n",
    "            Path = NewPath*\"$(protein)/$(temp)K/\"\n",
    "            #println(Path)\n",
    "            cd(Path)\n",
    "            SimName = \"$(protein)_$(temp)_ChargeTemper\"\n",
    "            Info =\"SLAB Simulation script for $protein.\\n\\n\"\n",
    "            BoxLengthShort=Float32(Seitenlaenge[protein])      #270 for IDRS, 325 for Non IDRS\n",
    "            BoxLengthLong=Float32(1500.)\n",
    "            BoxSize = [-BoxLengthShort/2., BoxLengthShort/2.,-BoxLengthLong/2., BoxLengthLong/2.,-BoxLengthShort/2., BoxLengthShort /2.]\n",
    "            \n",
    "            for (ChargeID, charge) in enumerate(ChargeSteps)\n",
    "                Sequences= Vector{String}()\n",
    "                Proteins = Vector{String}()\n",
    "                for i in 1:NChains\n",
    "                    push!(Proteins, protein)\n",
    "                    push!(Sequences, ProteinSequences.NameToSeq[protein]) \n",
    "                end\n",
    "                \n",
    "                #=\n",
    "                if Restart\n",
    "                    if ~(temp in  keys(RestartRule))\n",
    "                        println(\"Dont know how to restart!\")\n",
    "                        continue\n",
    "                    end\n",
    "                    local RunString = lpad(get!(RunNum, (protein, temp),1),3,\"0\")\n",
    "                    local prot = HPSAnalysis.initData(NewPath*\"$(protein)/$(RestartRule[temp])K/\", \"$(protein)_slab.lmp\"; StepFrequency=1, Reparse=false, LoadAll=true);\n",
    "                    #GSD.WriteAsPDB(prot,Start=100, Stop=prot.NSteps, Stepsize=100)\n",
    "                    pos = HPSAnalysis.GetLastFrameForRestart(prot)\n",
    "                    HPSAnalysis.SaveAllData(prot)\n",
    "                else=#\n",
    "                #=\n",
    "                (pos, Data) = HPSAnalysis.CreateStartConfiguration(SimName,Path , [BoxLengthShort,BoxLengthShort , BoxLengthShort], Proteins, Sequences; Axis=\"y\")\n",
    "                    #pos = rand(sum(length.(Sequences)), 3)\n",
    "                #end\n",
    "                \n",
    "                file = open(\"$(Path)/$(protein)_$(temp).xyz\", \"w\");\n",
    "                \n",
    "                for atom in 1:size(pos,1)\n",
    "                    write(file, \"$(pos[atom, 1]) , $(pos[atom, 2]) , $(pos[atom, 3])\\n\")\n",
    "                end\n",
    "                close(file)\n",
    "                =#\n",
    "                \n",
    "                pos = zeros(Float32,71400,3 )\n",
    "\n",
    "                file = open(\"/localscratch/HPS_DATA/HPS-Alpha/SLAB/HOOMD/RS41_PHOS6/320K/RS41_PHOS6_320.xyz\", \"r\");\n",
    "                \n",
    "                for atom in 1:size(pos,1)\n",
    "                    #println(readline(file))\n",
    "                    #println(split(readline(file),\" , \"))\n",
    "                    pos[atom,:] = parse.(Float32, split(readline(file),\" , \"))\n",
    "                    #write(file, \"$(pos[atom, 1]) , $(pos[atom, 2]) , $(pos[atom, 3])\\n\")\n",
    "                end\n",
    "                close(file)\n",
    "                \n",
    "\n",
    "                #Setup.\n",
    "                writeStartConfiguration(\"./$(protein)_slab\",\"./$(SimName)_Start_slab_$(ChargeID)\", Info, Sequences, BoxSize , 1_000_000_000; SimulationType=\"Calvados2+Alpha\" , Temperature=temp,  InitStyle=\"Pos\", Pos=pos , ChargeTemperSteps=ChargeSteps, ChargeTemperSwapSteps=10_000, HOOMD=true)\n",
    "            end\n",
    "        end\n",
    "    end\n",
    "    mkpath(NewPath*\"SlurmScripts/\")\n",
    "\n",
    "end\n"
   ]
  },
  {
   "cell_type": "code",
   "execution_count": 7,
   "metadata": {},
   "outputs": [],
   "source": [
    "pos = zeros(Float32,71400,3 )\n",
    "file = open(\"/localscratch/HPS_DATA/HPS-Alpha/SLAB/HOOMD/RS41_PHOS6/320K/RS41_PHOS6_320.xyz\", \"r\");\n",
    "                \n",
    "for atom in 1:size(pos,1)\n",
    "    #println(readline(file))\n",
    "    #println(split(readline(file),\" , \"))\n",
    "    pos[atom,:] = parse.(Float32, split(readline(file),\" , \"))\n",
    "    #write(file, \"$(pos[atom, 1]) , $(pos[atom, 2]) , $(pos[atom, 3])\\n\")\n",
    "end\n",
    "close(file)"
   ]
  },
  {
   "cell_type": "code",
   "execution_count": 8,
   "metadata": {},
   "outputs": [
    {
     "data": {
      "text/plain": [
       "3-element Vector{Float32}:\n",
       "  325.0\n",
       " 1500.0\n",
       "  325.0"
      ]
     },
     "metadata": {},
     "output_type": "display_data"
    }
   ],
   "source": [
    "Sequences= Vector{String}()\n",
    "Proteins = Vector{String}()\n",
    "protein=\"RS41_PHOS6\"\n",
    "for i in 1:200\n",
    "    push!(Proteins, \"RS41_PHOS6\")\n",
    "    push!(Sequences, ProteinSequences.NameToSeq[\"RS41_PHOS6\"]) \n",
    "end\n",
    "BoxLengthShort=Float32(Seitenlaenge[protein])      #270 for IDRS, 325 for Non IDRS\n",
    "BoxLengthLong=Float32(1500.)\n",
    "AltBox = [BoxLengthShort,BoxLengthLong, BoxLengthShort ]"
   ]
  },
  {
   "cell_type": "code",
   "execution_count": 9,
   "metadata": {},
   "outputs": [
    {
     "ename": "UndefVarError",
     "evalue": "UndefVarError: `Setup` not defined",
     "output_type": "error",
     "traceback": [
      "UndefVarError: `Setup` not defined\n",
      "\n",
      "Stacktrace:\n",
      " [1] top-level scope\n",
      "   @ ~/phdscripts/Julia/LammpsAnalysis/src/Setup/Test_HOOMD_Setup.ipynb:2"
     ]
    }
   ],
   "source": [
    "altpos =reshape(pos, 200,357,3)\n",
    "image = Setup.getImageCopyNumber(altpos, AltBox, Sequences);\n",
    "println(image)"
   ]
  },
  {
   "cell_type": "code",
   "execution_count": 18,
   "metadata": {},
   "outputs": [
    {
     "data": {
      "text/plain": [
       "writeStartConfiguration (generic function with 2 methods)"
      ]
     },
     "metadata": {},
     "output_type": "display_data"
    }
   ],
   "source": [
    "using Dates\n",
    "\n",
    "function writeStartConfiguration(fileName, StartFileName, Info, Sequences, BoxSize,NSteps=100000000; SimulationType=\"Calvados2\", Temperature=300,MixingRule=\"1-1001-1\", Pos =zeros(Float32, 0),InitStyle=\"Slab\", SaltConcentration=-1, pH=6, ChargeTemperSteps=[], ChargeTemperSwapSteps=100_000, HOOMD=false)\n",
    "\n",
    "    ChargeTemperSim=length(ChargeTemperSteps)>0\n",
    "\n",
    "    NAtoms= 0\n",
    "    NBonds=0\n",
    "    NAngles=0\n",
    "    NDihedrals=0\n",
    "    for Seq in Sequences\n",
    "        NAtoms += length(Seq)\n",
    "        NBonds += length(Seq)-1\n",
    "        NAngles += length(Seq)-2\n",
    "        NDihedrals += length(Seq)-3\n",
    "    end\n",
    "    AlphaAddition=true\n",
    "    if SimulationType==\"Calvados2+Alpha\"\n",
    "        AlphaAddition = true\n",
    "        SimulationType=\"Calvados2\"\n",
    "    else\n",
    "        AlphaAddition=false\n",
    "    end\n",
    "  \n",
    "    (AtomTypes, LongAtomTypes, AaToId, IdToAa,ResToLongAtomType, LongAtomTypesToRes, OneToCharge, OneToMass, OneToSigma, OneToLambda, OneToHPSDihedral0110, OneToHPSDihedral1001) =  Setup.DetermineCalvados2AtomTypes(Sequences, SimulationType, pH)\n",
    "    NAtomTypes = length(LongAtomTypes)\n",
    "\n",
    "    (dihedral_map, dihedral_eps) = Setup.determineDihedrals(Sequences, AtomTypes, AaToId, OneToHPSDihedral0110, OneToHPSDihedral1001, MixingRule)\n",
    "    NDihedralsTypes = length(dihedral_eps)\n",
    "\n",
    "\n",
    "\n",
    "    if InitStyle==\"Slab\"\n",
    "        pos = createStartingPosition(Sequences, BoxSize)\n",
    "    elseif (InitStyle==\"Pos\")\n",
    "        cnt = 1\n",
    "        pos_init = Pos\n",
    "\n",
    "        pos = zeros(length(Sequences), maximum(length.(Sequences)), 3)\n",
    "        for (Seqindex, Seq) in enumerate(Sequences)\n",
    "            for (Aaid,_) in enumerate(Seq)\n",
    "                pos[Seqindex, Aaid, 1] = pos_init[cnt,1]\n",
    "                pos[Seqindex, Aaid, 2] = pos_init[cnt,2]\n",
    "                pos[Seqindex, Aaid, 3] = pos_init[cnt,3]\n",
    "                cnt+=1\n",
    "            end\n",
    "        end\n",
    "    else\n",
    "        pos = createDenseStartingPosition(Sequences, BoxSize)\n",
    "    end\n",
    "\n",
    "    AltBox = [BoxSize[2]-BoxSize[1], BoxSize[4]-BoxSize[3], BoxSize[6]-BoxSize[5]]\n",
    "    println(AltBox)\n",
    "    pos = Setup.correctPositionInBounds(pos, AltBox, Sequences) ### poly coordinates are not in box sometimes\n",
    "    image = Setup.getImageCopyNumber(pos, AltBox, Sequences)\n",
    "    #pos = Setup. rescalePositions(pos, AltBox, Sequences, image)\n",
    "    println(pos[28,100:130,3])\n",
    "    #function writeHPSLammpsScript(fileName, StartFileName, AtomTypes, Dihedral_eps, InitStyle, SimulationType, Restart, NTimeSteps)\n",
    "\n",
    "    if HOOMD\n",
    "        #println(pwd())\n",
    "        WriteHOOMDSequences(\"./HOOMD_Setup/Sequences.txt\", Sequences)\n",
    "        WriteHOOMDParticlesInput(\"./HOOMD_Setup/Particles.txt\", pos,  OneToCharge, AaToId,Sequences, OneToMass, OneToSigma, image)\n",
    "        WriteDihedrals(\"./HOOMD_Setup/DihedralMap.txt\", dihedral_map, dihedral_eps)\n",
    "\n",
    "        BoxLength = [BoxSize[2]-BoxSize[1],BoxSize[4]-BoxSize[3],BoxSize[6]-BoxSize[5] ]\n",
    "        WriteParams(\"./HOOMD_Setup/Params.txt\", StartFileName, Temperature, NSteps, 100_000, 0.1, BoxLength/10.0, now().instant.periods.value%65535) ### BoxLength has to be convert to nm\n",
    "        WriteDictionaries(\"./HOOMD_Setup/Dictionaries.txt\", OneToCharge, AaToId, OneToMass, OneToSigma, OneToLambda)\n",
    "    else\n",
    "        writeHPSLammpsScript( fileName*\".lmp\",StartFileName*\"$(ChargeTemperSim ?  \"_\\${id}\" : \"\")\", AtomTypes, LongAtomTypes, AaToId, LongAtomTypesToRes, OneToCharge, OneToSigma, OneToLambda, dihedral_eps, InitStyle, SimulationType, Temperature, AlphaAddition, false, NSteps; SaltConcentration=SaltConcentration, pH=pH, ChargeTemperSteps=ChargeTemperSteps, ChargeTemperSwapSteps=ChargeTemperSwapSteps)\n",
    "        writeHPSLammpsScript( fileName*\"_restart.lmp\",StartFileName*\"$(ChargeTemperSim ?  \"_\\${id}\" : \"\")\", AtomTypes, LongAtomTypes, AaToId, LongAtomTypesToRes, OneToCharge, OneToSigma, OneToLambda, dihedral_eps, InitStyle, SimulationType, Temperature, AlphaAddition, true, NSteps; SaltConcentration=SaltConcentration, pH=pH, ChargeTemperSteps=ChargeTemperSteps, ChargeTemperSwapSteps=ChargeTemperSwapSteps)\n",
    "\n",
    "        file = open(StartFileName*\".txt\", \"w\");\n",
    "        write(file, Info)\n",
    "\n",
    "            write(file, \"\\n\\t $NAtoms \\t atoms\\n\")\n",
    "            write(file, \"\\t $NBonds \\t bonds\\n\")\n",
    "            write(file, \"\\t $NAngles \\t angles\\n\")\n",
    "            write(file, \"\\t $NDihedrals \\t dihedrals\\n\\n\")\n",
    "\n",
    "            write(file, \"\\t $NAtomTypes \\t atom types\\n\")\n",
    "            write(file, \"\\t 1 \\t bond types\\n\")\n",
    "            write(file, \"\\t 1 \\t angle types\\n\")\n",
    "            write(file, \"\\t $NDihedralsTypes \\t dihedral types\\n\\n\")\n",
    "\n",
    "            write(file,\"\\t $(BoxSize[1]) \\t $(BoxSize[2]) \\t xlo xhi\\n\")\n",
    "            write(file,\"\\t $(BoxSize[3]) \\t $(BoxSize[4]) \\t ylo yhi\\n\")\n",
    "            write(file,\"\\t $(BoxSize[5]) \\t $(BoxSize[6]) \\t zlo zhi\\n\\n\")\n",
    "\n",
    "        write(file, \"Masses \\n#\\n\")\n",
    "        for (index, value) in enumerate(LongAtomTypes)\n",
    "            write(file, \"\\t $(AaToId[value]) \\t $(OneToMass[value]) \\t ### $(value in AtomTypes ? value : LongAtomTypesToRes[value] ) \\n\")\n",
    "        end\n",
    "\n",
    "        write(file,\"\\nAtoms\\n# A comment that is needed to read stuff accurately\\n\")\n",
    "\n",
    "\n",
    "        atomid=0\n",
    "        moleculeid=0\n",
    "        for (SeqId, Sequence) in enumerate(Sequences)\n",
    "            moleculeid+=1\n",
    "            for (ResId,Res) in enumerate(Sequence)\n",
    "                atomid +=1\n",
    "                write(file, \"\\t $atomid \\t $(@sprintf(\"%6i\", moleculeid)) \\t  $(@sprintf(\"%2i\", AaToId[Res])) \\t  $(@sprintf(\"%3.5f\", OneToCharge[Res])) \\t $(@sprintf(\"%5.5f\", pos[SeqId,ResId,1])) \\t $(@sprintf(\"%5.5f\", pos[SeqId,ResId,2])) \\t $(@sprintf(\"%5.5f\", pos[SeqId,ResId,3])) \\t $(@sprintf(\"%i\", image[SeqId,ResId,1])) \\t $(@sprintf(\"%i\", image[SeqId,ResId,2])) \\t $(@sprintf(\"%i\", image[SeqId,ResId,3]))\\n\")\n",
    "            end\n",
    "        end \n",
    "\n",
    "        write(file,\"\\nBonds\\n#\\n\")\n",
    "        atomid=0\n",
    "        bondid=0\n",
    "        for (SeqId, Sequence) in enumerate(Sequences)\n",
    "            for (ResId,Res) in enumerate(Sequence)\n",
    "                atomid +=1\n",
    "                if ResId>(length(Sequence)-1)\n",
    "                    continue\n",
    "                else\n",
    "                    bondid += 1\n",
    "                    write(file, \"\\t $bondid \\t 1 \\t  $atomid \\t  $(atomid+1) \\n\")\n",
    "                end\n",
    "            end\n",
    "        # write(file, \"\\n\")\n",
    "        end \n",
    "        write(file, \"\\n\\n\")\n",
    "\n",
    "        write(file,\"\\nAngles\\n#\\n\")\n",
    "        atomid=0\n",
    "        angleid=0\n",
    "        for (SeqId, Sequence) in enumerate(Sequences)\n",
    "            for (ResId,Res) in enumerate(Sequence)\n",
    "                atomid +=1\n",
    "                if ResId>(length(Sequence)-2)\n",
    "                    continue\n",
    "                else\n",
    "                    angleid += 1\n",
    "                    write(file, \"\\t $angleid \\t 1 \\t  $atomid \\t  $(atomid+1) \\t $(atomid+2)\\n\")\n",
    "                end\n",
    "            end\n",
    "        end \n",
    "\n",
    "        write(file, \"\\n\\n\")\n",
    "\n",
    "        write(file,\"\\nDihedrals\\n#\\n\")\n",
    "        atomid=0\n",
    "        dihedralid=0\n",
    "        for (SeqId, Seq) in enumerate(Sequences)\n",
    "            for (ResId,Res) in enumerate(Seq)\n",
    "                atomid +=1\n",
    "                if (ResId>(length(Seq)-3) )\n",
    "                    continue\n",
    "                else\n",
    "                    dihedralid += 1\n",
    "                    if MixingRule==\"1-1001-1\"\n",
    "                        ID_min  = \n",
    "                        Res_min = (ResId-1)>=1 ? AaToId[Seq[ResId-1]] : 0\n",
    "                        Res_max = (ResId)<=(length(Seq)-4) ? AaToId[Seq[ResId+4]] : -1\n",
    "                        key = (sort([Res_min,AaToId[Res], AaToId[Seq[ResId+3]], Res_max]))\n",
    "                    elseif MixingRule==\"1001\"\n",
    "                        key = (sort([AaToId[Res], AaToId[Seq[ResId+3]]]))\n",
    "                    elseif MixingRule==\"0110\"\n",
    "                        key = (sort([AaToId[Seq[ResId+1]], AaToId[Seq[ResId+2]]]))\n",
    "                    end\n",
    "                    write(file, \"\\t $dihedralid \\t $(dihedral_map[key]) \\t  $atomid \\t  $(atomid+1) \\t $(atomid+2) \\t $(atomid+3)\\n\")\n",
    "                end\n",
    "            end\n",
    "        end \n",
    "\n",
    "        close(file)\n",
    "    end\n",
    "end\n"
   ]
  },
  {
   "cell_type": "code",
   "execution_count": 11,
   "metadata": {},
   "outputs": [],
   "source": []
  }
 ],
 "metadata": {
  "kernelspec": {
   "display_name": "Julia 1.9.3",
   "language": "julia",
   "name": "julia-1.9"
  },
  "language_info": {
   "file_extension": ".jl",
   "mimetype": "application/julia",
   "name": "julia",
   "version": "1.9.3"
  }
 },
 "nbformat": 4,
 "nbformat_minor": 2
}
